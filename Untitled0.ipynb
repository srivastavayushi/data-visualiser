{
  "nbformat": 4,
  "nbformat_minor": 0,
  "metadata": {
    "colab": {
      "name": "Untitled0.ipynb",
      "provenance": []
    },
    "kernelspec": {
      "name": "python3",
      "display_name": "Python 3"
    }
  },
  "cells": [
    {
      "cell_type": "code",
      "metadata": {
        "id": "KAACP0v8lK0T"
      },
      "source": [
        "import pandas as pd\n",
        "import matplotlib.pyplot as plt\n",
        "path = \"/content/drive/MyDrive/Colab Notebooks/cereal.csv\""
      ],
      "execution_count": 1,
      "outputs": []
    },
    {
      "cell_type": "code",
      "metadata": {
        "colab": {
          "base_uri": "https://localhost:8080/"
        },
        "id": "lX6vROAymeCk",
        "outputId": "d49f907f-ffcd-45ac-ad5f-6958f6fbe821"
      },
      "source": [
        "df = pd.read_csv(path)\n",
        "df.head"
      ],
      "execution_count": 2,
      "outputs": [
        {
          "output_type": "execute_result",
          "data": {
            "text/plain": [
              "<bound method NDFrame.head of         name mfr type  calories  ...  shelf  weight  cups     rating\n",
              "0  Chocolate   N    C        70  ...      3       1  0.33  68.402973\n",
              "1      Pizza   Q    C       120  ...      3       1  1.00  33.983679\n",
              "2      Chips   K    C        70  ...      3       1  0.33  59.425505\n",
              "3     Drinks   K    C        50  ...      3       1  0.50  93.704912\n",
              "\n",
              "[4 rows x 16 columns]>"
            ]
          },
          "metadata": {
            "tags": []
          },
          "execution_count": 2
        }
      ]
    },
    {
      "cell_type": "code",
      "metadata": {
        "colab": {
          "base_uri": "https://localhost:8080/",
          "height": 282
        },
        "id": "ymCYdeB0mzT_",
        "outputId": "55bf34f7-e7b7-416d-ed64-f1f62fb9cdff"
      },
      "source": [
        "plt.bar(df['name'],df['calories'])"
      ],
      "execution_count": 3,
      "outputs": [
        {
          "output_type": "execute_result",
          "data": {
            "text/plain": [
              "<BarContainer object of 4 artists>"
            ]
          },
          "metadata": {
            "tags": []
          },
          "execution_count": 3
        },
        {
          "output_type": "display_data",
          "data": {
            "image/png": "[encoded data removed]",
            "text/plain": [
              "<Figure size 432x288 with 1 Axes>"
            ]
          },
          "metadata": {
            "tags": [],
            "needs_background": "light"
          }
        }
      ]
    },
    {
      "cell_type": "code",
      "metadata": {
        "id": "EDFw6GuSm7nQ"
      },
      "source": [
        ""
      ],
      "execution_count": null,
      "outputs": []
    }
  ]
}